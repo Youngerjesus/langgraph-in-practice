{
 "cells": [
  {
   "cell_type": "markdown",
   "metadata": {},
   "source": [
    "# Reflection\n",
    "\n",
    "In the context of LLM agent building, reflection refers to the process of prompting an LLM to observe its past steps (along with potential observations from tools/the environment) to assess the quality of the chosen actions. This is then used downstream for things like re-planning, search, or evaluation.\n",
    "\n",
    "This notebook demonstrates a very simple form of reflection in LangGraph.\n",
    "\n",
    "\n",
    "![](./images/Basic%20Reflection.png)"
   ]
  },
  {
   "cell_type": "code",
   "execution_count": 4,
   "metadata": {},
   "outputs": [
    {
     "name": "stdout",
     "output_type": "stream",
     "text": [
      "\n",
      "\u001b[1m[\u001b[0m\u001b[34;49mnotice\u001b[0m\u001b[1;39;49m]\u001b[0m\u001b[39;49m A new release of pip is available: \u001b[0m\u001b[31;49m24.0\u001b[0m\u001b[39;49m -> \u001b[0m\u001b[32;49m24.1\u001b[0m\n",
      "\u001b[1m[\u001b[0m\u001b[34;49mnotice\u001b[0m\u001b[1;39;49m]\u001b[0m\u001b[39;49m To update, run: \u001b[0m\u001b[32;49mpip install --upgrade pip\u001b[0m\n",
      "Note: you may need to restart the kernel to use updated packages.\n"
     ]
    }
   ],
   "source": [
    "%pip install -U --quiet  langgraph langchain-fireworks tavily-python langchain_openai"
   ]
  },
  {
   "cell_type": "markdown",
   "metadata": {},
   "source": [
    "## Generate\n",
    "For our example, we will create a \"5 paragraph essay\" generator. First, create the generator:\n"
   ]
  },
  {
   "cell_type": "code",
   "execution_count": 9,
   "metadata": {},
   "outputs": [],
   "source": [
    "from langchain_core.messages import AIMessage, BaseMessage, HumanMessage\n",
    "from langchain_core.prompts import ChatPromptTemplate, MessagesPlaceholder\n",
    "from langchain_openai import ChatOpenAI\n",
    "\n",
    "prompt = ChatPromptTemplate.from_messages(\n",
    "    [\n",
    "        (\n",
    "            \"system\",\n",
    "            \"You are an essay assistant tasked with writing excellent 5-paragraph essays.\"\n",
    "            \" Generate the best essay possible for the user's request.\"\n",
    "            \" If the user provides critique, respond with a revised version of your previous attempts.\",\n",
    "        ),\n",
    "        MessagesPlaceholder(variable_name=\"messages\"),\n",
    "    ]\n",
    ")\n",
    "llm = ChatOpenAI(\n",
    "    max_tokens=4096,\n",
    ")\n",
    "generate = prompt | llm\n"
   ]
  },
  {
   "cell_type": "code",
   "execution_count": 10,
   "metadata": {},
   "outputs": [
    {
     "name": "stdout",
     "output_type": "stream",
     "text": [
      "\"The Little Prince\" by Antoine de Saint-Exupéry continues to resonate with modern childhood due to its timeless themes and universal messages. This beloved novella explores profound ideas such as the importance of imagination, the value of human connections, and the need to prioritize what truly matters in life. In today's fast-paced and technology-driven world, these themes are more relevant than ever, making \"The Little Prince\" a poignant and essential read for children.\n",
      "\n",
      "Firstly, the theme of imagination is crucial in the upbringing of children in the modern era. With the prevalence of screens and digital devices, there is a growing concern about the diminishing space for creativity and imagination in children's lives. \"The Little Prince\" encourages readers to nurture their imagination, to see beyond the surface, and to appreciate the beauty in the world around them. In a society that often values productivity over creativity, the little prince reminds children to hold onto their sense of wonder and curiosity.\n",
      "\n",
      "Secondly, the novella emphasizes the significance of human connections and relationships. In today's hyper-connected world, children are often bombarded with virtual interactions and social media, leading to a sense of isolation and disconnection. Through the little prince's encounters with various characters, the story highlights the importance of forming genuine and meaningful relationships. Children can learn from the prince's experiences and understand the value of empathy, kindness, and companionship in their own lives.\n",
      "\n",
      "Furthermore, \"The Little Prince\" conveys a powerful message about the need to prioritize what truly matters in life. In a society that glorifies material possessions and external success, the novella serves as a gentle reminder to focus on the intangible and essential aspects of existence. The little prince's journey teaches children about the importance of love, friendship, and inner fulfillment, urging them to look beyond the superficial and embrace what brings genuine happiness and contentment.\n",
      "\n",
      "In conclusion, \"The Little Prince\" remains relevant in modern childhood for its timeless themes of imagination, human connections, and the pursuit of true happiness. Through its enchanting narrative and profound insights, the novella continues to captivate young readers and inspire them to navigate the complexities of the world with wisdom and compassion. In a rapidly changing and increasingly digital world, the little prince's enduring lessons serve as a guiding light for children, encouraging them to cherish their imagination, cultivate meaningful relationships, and seek fulfillment in the simple joys of life."
     ]
    }
   ],
   "source": [
    "essay = \"\"\n",
    "request = HumanMessage(\n",
    "    content=\"Write an essay on why the little prince is relevant in modern childhood\"\n",
    ")\n",
    "for chunk in generate.stream({\"messages\": [request]}):\n",
    "    print(chunk.content, end=\"\")\n",
    "    essay += chunk.content\n"
   ]
  },
  {
   "cell_type": "markdown",
   "metadata": {},
   "source": [
    "## Reflect\n"
   ]
  },
  {
   "cell_type": "code",
   "execution_count": 11,
   "metadata": {},
   "outputs": [],
   "source": [
    "reflection_prompt = ChatPromptTemplate.from_messages(\n",
    "    [\n",
    "        (\n",
    "            \"system\",\n",
    "            \"You are a teacher grading an essay submission. Generate critique and recommendations for the user's submission.\"\n",
    "            \" Provide detailed recommendations, including requests for length, depth, style, etc.\",\n",
    "        ),\n",
    "        MessagesPlaceholder(variable_name=\"messages\"),\n",
    "    ]\n",
    ")\n",
    "reflect = reflection_prompt | llm"
   ]
  },
  {
   "cell_type": "code",
   "execution_count": 12,
   "metadata": {},
   "outputs": [
    {
     "data": {
      "text/plain": [
       "'\"The Little Prince\" by Antoine de Saint-Exupéry continues to resonate with modern childhood due to its timeless themes and universal messages. This beloved novella explores profound ideas such as the importance of imagination, the value of human connections, and the need to prioritize what truly matters in life. In today\\'s fast-paced and technology-driven world, these themes are more relevant than ever, making \"The Little Prince\" a poignant and essential read for children.\\n\\nFirstly, the theme of imagination is crucial in the upbringing of children in the modern era. With the prevalence of screens and digital devices, there is a growing concern about the diminishing space for creativity and imagination in children\\'s lives. \"The Little Prince\" encourages readers to nurture their imagination, to see beyond the surface, and to appreciate the beauty in the world around them. In a society that often values productivity over creativity, the little prince reminds children to hold onto their sense of wonder and curiosity.\\n\\nSecondly, the novella emphasizes the significance of human connections and relationships. In today\\'s hyper-connected world, children are often bombarded with virtual interactions and social media, leading to a sense of isolation and disconnection. Through the little prince\\'s encounters with various characters, the story highlights the importance of forming genuine and meaningful relationships. Children can learn from the prince\\'s experiences and understand the value of empathy, kindness, and companionship in their own lives.\\n\\nFurthermore, \"The Little Prince\" conveys a powerful message about the need to prioritize what truly matters in life. In a society that glorifies material possessions and external success, the novella serves as a gentle reminder to focus on the intangible and essential aspects of existence. The little prince\\'s journey teaches children about the importance of love, friendship, and inner fulfillment, urging them to look beyond the superficial and embrace what brings genuine happiness and contentment.\\n\\nIn conclusion, \"The Little Prince\" remains relevant in modern childhood for its timeless themes of imagination, human connections, and the pursuit of true happiness. Through its enchanting narrative and profound insights, the novella continues to captivate young readers and inspire them to navigate the complexities of the world with wisdom and compassion. In a rapidly changing and increasingly digital world, the little prince\\'s enduring lessons serve as a guiding light for children, encouraging them to cherish their imagination, cultivate meaningful relationships, and seek fulfillment in the simple joys of life.'"
      ]
     },
     "execution_count": 12,
     "metadata": {},
     "output_type": "execute_result"
    }
   ],
   "source": [
    "essay"
   ]
  },
  {
   "cell_type": "code",
   "execution_count": 13,
   "metadata": {},
   "outputs": [
    {
     "name": "stdout",
     "output_type": "stream",
     "text": [
      "Your essay on why \"The Little Prince\" is relevant in modern childhood is well-written and touches upon important themes from the novella. Here are some recommendations to enhance your essay:\n",
      "\n",
      "1. **Provide Specific Examples**: While you mention the themes of imagination, human connections, and prioritizing what matters in life, try to include specific examples from the novella to support your points. For instance, you could discuss the little prince's interactions with the fox to illustrate the importance of forming meaningful relationships.\n",
      "\n",
      "2. **Expand on the Impact of Technology**: You briefly mention the impact of technology on children's creativity and relationships, but you could delve deeper into this topic. How does the novella's message about imagination resonate in a world dominated by technology? How can children apply the little prince's lessons to balance their digital lives with real-world experiences?\n",
      "\n",
      "3. **Discuss the Relevance of the Little Prince's Journey**: You touch upon the little prince's journey and the lessons he learns, but consider expanding on how these lessons can guide children in navigating challenges they face in their own lives. How can children apply the novella's themes to cope with issues like peer pressure, loneliness, or self-discovery?\n",
      "\n",
      "4. **Connect to Personal Experiences**: Consider incorporating personal anecdotes or examples to make your essay more engaging and relatable. You could share how \"The Little Prince\" impacted your own childhood or how you see its relevance in the lives of children you know.\n",
      "\n",
      "5. **Conclude with a Call to Action**: End your essay with a call to action or reflection for readers. Encourage them to embrace the lessons of \"The Little Prince\" in their own lives and provide suggestions on how they can apply these themes in practical ways.\n",
      "\n",
      "6. **Length and Depth**: To further enhance your essay, consider expanding on each theme with more detailed analysis and examples. Aim to make your arguments more robust by exploring the nuances of each theme in relation to modern childhood.\n",
      "\n",
      "Overall, your essay effectively highlights the timeless relevance of \"The Little Prince\" in modern childhood. By incorporating these recommendations, you can deepen your analysis and provide a more comprehensive exploration of the novella's impact on young readers today."
     ]
    }
   ],
   "source": [
    "reflection = \"\"\n",
    "for chunk in reflect.stream({\"messages\": [request, HumanMessage(content=essay)]}):\n",
    "    print(chunk.content, end=\"\")\n",
    "    reflection += chunk.content\n"
   ]
  },
  {
   "cell_type": "markdown",
   "metadata": {},
   "source": [
    "## Repeat\n",
    "\n",
    "And... that's all there is too it! You can repeat in a loop for a fixed number of steps, or use an LLM (or other check) to decide when the finished product is good enough"
   ]
  },
  {
   "cell_type": "code",
   "execution_count": 14,
   "metadata": {},
   "outputs": [
    {
     "name": "stdout",
     "output_type": "stream",
     "text": [
      "\"The Little Prince\" by Antoine de Saint-Exupéry continues to resonate with modern childhood due to its timeless themes and universal messages. This beloved novella explores profound ideas such as the importance of imagination, the value of human connections, and the need to prioritize what truly matters in life. In today's fast-paced and technology-driven world, these themes are more relevant than ever, making \"The Little Prince\" a poignant and essential read for children.\n",
      "\n",
      "Specific examples from the novella highlight the importance of these themes. For instance, the little prince's interactions with the fox illustrate the significance of forming meaningful relationships. Through the prince's journey, children learn about empathy, friendship, and the beauty of genuine connections.\n",
      "\n",
      "In a world dominated by technology, the novella's message about imagination takes on added importance. Children today are often consumed by screens and digital devices, leaving little room for creativity and wonder. By following the little prince's lead and cherishing their imagination, children can learn to see the world in a different light and appreciate the beauty around them.\n",
      "\n",
      "The little prince's journey also offers valuable lessons for children facing challenges in their own lives. Whether dealing with peer pressure, loneliness, or self-discovery, children can apply the novella's themes to navigate these obstacles with grace and resilience. By prioritizing love, kindness, and inner fulfillment, children can find a sense of purpose and contentment in a world full of distractions and pressures.\n",
      "\n",
      "In conclusion, \"The Little Prince\" serves as a guiding light for modern childhood, offering timeless wisdom and insights that remain relevant in today's world. By embracing the novella's themes of imagination, human connections, and the pursuit of true happiness, children can navigate the complexities of life with compassion and understanding. Let us encourage young readers to heed the lessons of the little prince and carry his spirit of curiosity, empathy, and love into their own lives, making the world a more beautiful and meaningful place for generations to come."
     ]
    }
   ],
   "source": [
    "for chunk in generate.stream(\n",
    "    {\"messages\": [request, AIMessage(content=essay), HumanMessage(content=reflection)]}\n",
    "):\n",
    "    print(chunk.content, end=\"\")"
   ]
  },
  {
   "cell_type": "markdown",
   "metadata": {},
   "source": [
    "## Define graph\n",
    "Now that we've shown each step in isolation, we can wire it up in a graph.\n",
    "\n"
   ]
  },
  {
   "cell_type": "code",
   "execution_count": 15,
   "metadata": {},
   "outputs": [],
   "source": [
    "from typing import List, Sequence\n",
    "\n",
    "from langgraph.graph import END, MessageGraph\n",
    "\n",
    "\n",
    "async def generation_node(state: Sequence[BaseMessage]):\n",
    "    return await generate.ainvoke({\"messages\": state})\n",
    "\n",
    "\n",
    "async def reflection_node(messages: Sequence[BaseMessage]) -> List[BaseMessage]:\n",
    "    # Other messages we need to adjust\n",
    "    cls_map = {\"ai\": HumanMessage, \"human\": AIMessage}\n",
    "    # First message is the original user request. We hold it the same for all nodes\n",
    "    translated = [messages[0]] + [\n",
    "        cls_map[msg.type](content=msg.content) for msg in messages[1:]\n",
    "    ]\n",
    "    res = await reflect.ainvoke({\"messages\": translated})\n",
    "    # We treat the output of this as human feedback for the generator\n",
    "    return HumanMessage(content=res.content)\n",
    "\n",
    "\n",
    "builder = MessageGraph()\n",
    "builder.add_node(\"generate\", generation_node)\n",
    "builder.add_node(\"reflect\", reflection_node)\n",
    "builder.set_entry_point(\"generate\")\n",
    "\n",
    "\n",
    "def should_continue(state: List[BaseMessage]):\n",
    "    if len(state) > 6:\n",
    "        # End after 3 iterations\n",
    "        return END\n",
    "    return \"reflect\"\n",
    "\n",
    "\n",
    "builder.add_conditional_edges(\"generate\", should_continue)\n",
    "builder.add_edge(\"reflect\", \"generate\")\n",
    "graph = builder.compile()"
   ]
  },
  {
   "cell_type": "code",
   "execution_count": 16,
   "metadata": {},
   "outputs": [
    {
     "name": "stdout",
     "output_type": "stream",
     "text": [
      "{'generate': AIMessage(content=\"The Little Prince, written by Antoine de Saint-Exupéry, continues to captivate readers with its timeless message and relevance in modern life. This beloved novella, first published in 1943, explores profound themes such as love, friendship, loneliness, and the complexities of human nature. Despite being written over half a century ago, The Little Prince remains as poignant and thought-provoking today as it was when it was first penned.\\n\\nOne of the central messages of The Little Prince is the importance of seeing beyond the surface to discover the true essence of things. In a world that is often preoccupied with material possessions and superficial appearances, the story reminds us to look with the heart. The Little Prince teaches us that what is essential is invisible to the eye, emphasizing the value of love, kindness, and human connections over material wealth.\\n\\nMoreover, The Little Prince highlights the significance of maintaining a childlike sense of wonder and curiosity in a world that often demands conformity and practicality. The Little Prince's innocence and imagination serve as a powerful reminder to embrace the beauty and magic of life, even in the face of cynicism and skepticism. In a fast-paced and technology-driven society, the novella encourages readers to pause, reflect, and appreciate the simple joys that surround us.\\n\\nAnother key message of The Little Prince is the exploration of loneliness and the longing for meaningful connections. The Little Prince encounters various characters on his journey, each grappling with their own sense of isolation and longing for understanding. Through these encounters, the novella underscores the importance of empathy, compassion, and genuine human connection in a world that can often feel cold and indifferent.\\n\\nIn conclusion, The Little Prince's enduring relevance lies in its profound messages about love, friendship, imagination, and the human experience. In a modern world marked by constant change and technological advancement, the novella serves as a poignant reminder of the timeless truths that connect us all. By embracing the themes of The Little Prince and applying its lessons to our lives, we can cultivate a deeper sense of empathy, wonder, and connection in an increasingly complex and disconnected world.\", response_metadata={'token_usage': {'completion_tokens': 422, 'prompt_tokens': 70, 'total_tokens': 492}, 'model_name': 'gpt-3.5-turbo-0125', 'system_fingerprint': None, 'finish_reason': 'stop', 'logprobs': None}, id='run-43f98768-46bb-4aea-98e8-1271baebf856-0', usage_metadata={'input_tokens': 70, 'output_tokens': 422, 'total_tokens': 492})}\n",
      "---\n",
      "{'reflect': HumanMessage(content=\"Your essay on the topicality of The Little Prince and its message in modern life is well-written and insightful. You have effectively captured some of the key themes and messages of the novella and highlighted their relevance in today's society. However, here are some recommendations to enhance your essay:\\n\\n1. **Add more analysis**: While you have touched upon important themes such as seeing with the heart, maintaining a childlike wonder, and the importance of human connection, consider delving deeper into each of these themes. Provide specific examples from the novella that illustrate these points and discuss how they resonate with contemporary issues or challenges.\\n\\n2. **Expand on the impact**: You mention that The Little Prince's messages are timeless and thought-provoking, but you could further explore how these messages can inspire personal growth and societal change. Discuss how embracing the novella's themes can lead to a more compassionate and connected world in the context of current global issues.\\n\\n3. **Include a critical perspective**: While it is important to highlight the positive messages of The Little Prince, consider addressing any potential limitations or criticisms of the novella's worldview. This can add depth to your analysis and showcase a more nuanced understanding of the text.\\n\\n4. **Provide more context**: You briefly mention the historical context of the novella's publication, but consider elaborating on how the events of that time period may have influenced Saint-Exupéry's writing and the themes he explores in The Little Prince.\\n\\n5. **Enhance the conclusion**: Your conclusion effectively summarizes the essay, but you could strengthen it by reiterating the importance of The Little Prince's messages in guiding individuals towards a more meaningful and fulfilling life in today's fast-paced world.\\n\\n6. **Length and structure**: Consider expanding the essay to include more detailed examples, analysis, and connections to modern life. Ensure that each paragraph flows logically and builds upon the previous one to create a cohesive argument.\\n\\nOverall, your essay provides a strong foundation for exploring the topicality of The Little Prince in modern life. By incorporating these recommendations, you can deepen your analysis and offer a more comprehensive understanding of the novella's enduring relevance.\")}\n",
      "---\n",
      "{'generate': AIMessage(content=\"The Little Prince, penned by Antoine de Saint-Exupéry, continues to resonate with readers today due to its profound themes and messages that transcend time. This beloved novella, first published in 1943, explores essential concepts such as love, friendship, loneliness, and the complexities of human nature. Despite being written over half a century ago, The Little Prince remains as poignant and thought-provoking in today's modern society as it was during its initial publication.\\n\\nOne of the central messages of The Little Prince is the importance of looking beyond the surface to uncover the true essence of things. In a world consumed by materialism and superficiality, the story encourages readers to see with the heart rather than with the eyes. The Little Prince teaches us that what truly matters is often invisible to the naked eye, emphasizing the value of intangible qualities such as love, kindness, and empathy over material possessions.\\n\\nFurthermore, The Little Prince underscores the significance of nurturing a childlike sense of wonder and curiosity in a world that often prioritizes practicality and conformity. The Little Prince's innocence and imagination serve as a powerful reminder to embrace the magic and beauty of life, even amidst the hustle and bustle of modern living. In a society driven by technology and productivity, the novella urges individuals to pause, reflect, and appreciate the simple joys that surround them.\\n\\nAnother key message of The Little Prince is the exploration of loneliness and the yearning for meaningful connections. Through encounters with various characters, each grappling with their own sense of isolation and longing for understanding, the novella emphasizes the importance of compassion, empathy, and genuine human connection. In an increasingly disconnected world, The Little Prince serves as a poignant reminder of the profound impact of forging authentic relationships and fostering a sense of belonging.\\n\\nIn conclusion, The Little Prince's enduring relevance lies in its timeless messages about love, friendship, imagination, and the human experience. By delving deeper into these themes, drawing parallels to contemporary challenges, and exploring the impact of embracing the novella's lessons, individuals can gain valuable insights into leading a more fulfilling and compassionate life. In today's fast-paced and complex world, The Little Prince stands as a beacon of wisdom, guiding readers towards a deeper understanding of themselves and their place in the world.\", response_metadata={'token_usage': {'completion_tokens': 456, 'prompt_tokens': 931, 'total_tokens': 1387}, 'model_name': 'gpt-3.5-turbo-0125', 'system_fingerprint': None, 'finish_reason': 'stop', 'logprobs': None}, id='run-714fb39b-eaa0-4de6-8d44-59123dc6d4e4-0', usage_metadata={'input_tokens': 931, 'output_tokens': 456, 'total_tokens': 1387})}\n",
      "---\n",
      "{'reflect': HumanMessage(content=\"Your essay on the topicality of The Little Prince and its message in modern life is well-structured and effectively articulates the central themes of the novella. You have provided a strong analysis of the importance of looking beyond the surface, maintaining a childlike wonder, and the value of meaningful connections. Here are some recommendations to enhance your essay further:\\n\\n1. **Deepen the analysis**: While you have touched upon the central messages of The Little Prince, consider providing more in-depth analysis by exploring how these themes manifest in modern society. Offer specific examples or anecdotes that illustrate how the novella's messages can be applied to contemporary challenges or experiences.\\n\\n2. **Include diverse perspectives**: To enrich your discussion, consider incorporating different interpretations or perspectives on The Little Prince's themes. This could involve referencing scholarly critiques, personal reflections, or cultural references that provide a broader understanding of the novella's impact on readers across various contexts.\\n\\n3. **Connect to current events**: To make your essay more relevant and engaging, consider linking the themes of The Little Prince to current events, social issues, or cultural phenomena. By drawing parallels between the novella and real-world situations, you can demonstrate the enduring relevance and applicability of its messages in today's rapidly changing society.\\n\\n4. **Highlight Saint-Exupéry's background**: Provide some context on Antoine de Saint-Exupéry's life and experiences that may have influenced the writing of The Little Prince. Understanding the author's perspective and motivations can offer valuable insights into the thematic richness of the novella and deepen your analysis.\\n\\n5. **Expand on the impact**: Consider exploring how The Little Prince's messages can inspire personal growth, foster empathy, and promote positive change in individuals and communities. Discuss how readers can apply the lessons learned from the novella to navigate the complexities of modern life and cultivate deeper connections with others.\\n\\n6. **Proofread for clarity and coherence**: Ensure that your essay flows smoothly from one point to the next and that your ideas are presented in a clear and coherent manner. Proofread for grammar, punctuation, and sentence structure to enhance the overall readability of your essay.\\n\\nBy incorporating these recommendations, you can further strengthen your essay on The Little Prince's topicality and relevance in modern life, offering a more comprehensive exploration of its enduring messages and impact on readers today.\")}\n",
      "---\n",
      "{'generate': AIMessage(content=\"The Little Prince, crafted by Antoine de Saint-Exupéry, continues to hold relevance in modern society due to its profound themes and timeless messages that resonate with readers of all ages. This enduring novella, originally published in 1943, delves into fundamental concepts such as love, friendship, loneliness, and the complexities of human nature. Despite its age, The Little Prince remains as thought-provoking and poignant in today's fast-paced world as it was during its initial release.\\n\\nOne of the central messages of The Little Prince is the importance of seeing beyond the superficial to unveil the true essence of things. In a contemporary world characterized by materialism and appearance-driven ideals, the narrative urges individuals to view the world with their hearts rather than just their eyes. The Little Prince emphasizes that what truly matters often lies beneath the surface, highlighting the significance of intangible qualities like compassion, kindness, and empathy over material possessions.\\n\\nFurthermore, The Little Prince underscores the value of maintaining a childlike sense of wonder and curiosity amidst the demands of modern life. The Little Prince's innocence and imagination serve as a powerful reminder to embrace the magic and beauty of existence, even in a society focused on productivity and efficiency. In a technology-driven era where busyness prevails, the novella encourages individuals to pause, reflect, and appreciate the simple joys that surround them.\\n\\nAnother key theme of The Little Prince is the exploration of loneliness and the quest for meaningful connections. Through encounters with diverse characters grappling with their own solitude and yearning for understanding, the novella underscores the importance of empathy, compassion, and genuine human relationships. In an increasingly disconnected world, The Little Prince acts as a poignant reminder of the profound impact of forging authentic connections and fostering a sense of belonging.\\n\\nIn conclusion, The Little Prince's enduring relevance lies in its universal messages about love, friendship, imagination, and the human experience. By delving deeper into these themes and illustrating their application in modern society, readers can glean valuable insights into leading more fulfilling and compassionate lives. In today's complex and rapidly changing world, The Little Prince stands as a beacon of wisdom, guiding individuals toward self-discovery, empathy, and a deeper appreciation of the beauty that surrounds them.\", response_metadata={'token_usage': {'completion_tokens': 446, 'prompt_tokens': 1862, 'total_tokens': 2308}, 'model_name': 'gpt-3.5-turbo-0125', 'system_fingerprint': None, 'finish_reason': 'stop', 'logprobs': None}, id='run-92987c3f-1a1d-425e-a346-4b076948b732-0', usage_metadata={'input_tokens': 1862, 'output_tokens': 446, 'total_tokens': 2308})}\n",
      "---\n",
      "{'reflect': HumanMessage(content=\"Your essay on the topicality of The Little Prince and its message in modern life is well-crafted and effectively conveys the central themes of the novella. You have provided a clear analysis of the importance of seeing beyond the superficial, maintaining a childlike wonder, and the value of meaningful connections. Here are some suggestions to further enhance your essay:\\n\\n1. **Expand on contemporary examples**: While you have discussed the relevance of The Little Prince's themes in modern society, consider incorporating more specific and relatable examples to illustrate how these messages manifest in everyday life. Providing concrete instances or anecdotes can make your analysis more engaging and relevant to readers.\\n\\n2. **Explore cultural impacts**: Consider exploring how The Little Prince has influenced popular culture, art, literature, or other forms of media in modern times. Discuss adaptations, references, or reinterpretations of the novella that have contributed to its enduring legacy and widespread appeal across different generations.\\n\\n3. **Address potential criticisms**: To offer a more balanced perspective, consider acknowledging any criticisms or limitations of The Little Prince's messages in the context of contemporary societal issues. This can demonstrate a nuanced understanding of the novella's themes and spark further reflection on its implications in today's world.\\n\\n4. **Highlight the global impact**: Discuss how The Little Prince's messages transcend cultural, linguistic, and geographical boundaries to resonate with readers worldwide. Explore how different communities interpret and apply the novella's themes in diverse cultural contexts, emphasizing its universal significance and enduring appeal.\\n\\n5. **Reflect on personal connections**: Share your own reflections or experiences related to The Little Prince and how its messages have impacted your understanding of love, friendship, imagination, and human connections. Personal anecdotes can add a unique perspective to your analysis and create a more intimate connection with your audience.\\n\\n6. **Consider the author's legacy**: Delve into Antoine de Saint-Exupéry's legacy as an author and aviator, exploring how his life experiences and beliefs shaped the themes and messages found in The Little Prince. Understanding the author's background can provide valuable insights into the novella's enduring relevance and impact on readers.\\n\\nBy incorporating these recommendations, you can enrich your essay on The Little Prince's topicality in modern life and deepen the exploration of its timeless messages and universal appeal. Strengthening your analysis with diverse examples, cultural insights, and personal reflections will enhance the overall impact and relevance of your essay.\")}\n",
      "---\n",
      "{'generate': AIMessage(content=\"The Little Prince, penned by Antoine de Saint-Exupéry, continues to hold a significant place in modern society due to its profound themes and enduring messages that resonate with readers across generations. This timeless novella, first published in 1943, delves into fundamental concepts such as love, friendship, loneliness, and the complexities of human nature. Despite its age, The Little Prince remains as thought-provoking and relevant in today's fast-paced world as it was during its initial release.\\n\\nOne of the central messages of The Little Prince is the importance of looking beyond the superficial to uncover the true essence of things. In a contemporary society saturated with materialism and surface-level interactions, the narrative encourages individuals to see the world with their hearts rather than just their eyes. The Little Prince emphasizes that true meaning often lies beneath the surface, highlighting the significance of intangible qualities like empathy, kindness, and compassion over material possessions.\\n\\nFurthermore, The Little Prince underscores the value of maintaining a childlike sense of wonder and curiosity amidst the demands of modern life. The Little Prince's innocence and imagination serve as a powerful reminder to embrace the magic and beauty of existence, even in a world driven by technology and efficiency. In a society where busyness often overshadows contemplation, the novella invites individuals to pause, reflect, and appreciate the simple joys that surround them.\\n\\nAnother key theme of The Little Prince is the exploration of loneliness and the quest for genuine connections. Through encounters with a diverse array of characters grappling with their own isolation and longing for understanding, the novella emphasizes the importance of empathy, compassion, and authentic human relationships. In an increasingly disconnected world, The Little Prince acts as a poignant reminder of the profound impact of fostering meaningful connections and cultivating a sense of belonging.\\n\\nIn conclusion, The Little Prince's enduring relevance lies in its universal messages about love, friendship, imagination, and the human experience. By incorporating contemporary examples, exploring cultural impacts, and reflecting on personal connections to the novella's themes, readers can gain a deeper understanding of its enduring legacy and applicability in modern life. In a world marked by constant change and technological advancements, The Little Prince continues to serve as a beacon of wisdom, guiding individuals toward self-discovery, empathy, and a deeper appreciation of the wonders that surround them.\", response_metadata={'token_usage': {'completion_tokens': 463, 'prompt_tokens': 2797, 'total_tokens': 3260}, 'model_name': 'gpt-3.5-turbo-0125', 'system_fingerprint': None, 'finish_reason': 'stop', 'logprobs': None}, id='run-72e4d983-289e-4418-bb58-9165c096789b-0', usage_metadata={'input_tokens': 2797, 'output_tokens': 463, 'total_tokens': 3260})}\n",
      "---\n"
     ]
    }
   ],
   "source": [
    "async for event in graph.astream(\n",
    "    [\n",
    "        HumanMessage(\n",
    "            content=\"Generate an essay on the topicality of The Little Prince and its message in modern life\"\n",
    "        )\n",
    "    ],\n",
    "):\n",
    "    print(event)\n",
    "    print(\"---\")\n"
   ]
  },
  {
   "cell_type": "markdown",
   "metadata": {},
   "source": [
    "## Conclusion\n",
    "Now that you've applied reflection to an LLM agent, I'll note one thing: self-reflection is inherently cyclic: it is much more effective if the reflection step has additional context or feedback (from tool observations, checks, etc.). If, like in the scenario above, the reflection step simply prompts the LLM to reflect on its output, it can still benefit the output quality (since the LLM then has multiple \"shots\" at getting a good output), but it's less guaranteed.\n",
    "\n"
   ]
  }
 ],
 "metadata": {
  "kernelspec": {
   "display_name": "env",
   "language": "python",
   "name": "python3"
  },
  "language_info": {
   "codemirror_mode": {
    "name": "ipython",
    "version": 3
   },
   "file_extension": ".py",
   "mimetype": "text/x-python",
   "name": "python",
   "nbconvert_exporter": "python",
   "pygments_lexer": "ipython3",
   "version": "3.12.4"
  }
 },
 "nbformat": 4,
 "nbformat_minor": 2
}
